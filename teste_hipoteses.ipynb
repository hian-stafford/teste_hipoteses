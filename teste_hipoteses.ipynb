{
 "cells": [
  {
   "cell_type": "markdown",
   "metadata": {},
   "source": [
    "# **Distribuição de Amostra**"
   ]
  },
  {
   "cell_type": "markdown",
   "metadata": {},
   "source": [
    "## **Normal**"
   ]
  },
  {
   "cell_type": "markdown",
   "metadata": {},
   "source": [
    "### **Pareada**"
   ]
  },
  {
   "cell_type": "markdown",
   "metadata": {},
   "source": [
    "#### ***2 grupos***"
   ]
  },
  {
   "cell_type": "markdown",
   "metadata": {},
   "source": [
    "* Teste t de Student para amostras **pareadas**"
   ]
  },
  {
   "cell_type": "code",
   "execution_count": 18,
   "metadata": {},
   "outputs": [
    {
     "name": "stdout",
     "output_type": "stream",
     "text": [
      "Estatística do teste t: 4.810702354423639\n",
      "Valor-p: 0.00858091872192478\n",
      "Rejeitar a hipótese nula: Há uma diferença estatisticamente significativa entre as médias das amostras antes e depois.\n"
     ]
    }
   ],
   "source": [
    "#teste t\n",
    "from scipy import stats\n",
    "import numpy as np\n",
    "\n",
    "# Supondo que você já tenha suas amostras pareadas amostra_antes e amostra_depois\n",
    "# Vamos gerar algumas amostras fictícias para demonstração\n",
    "amostra_antes = np.array([15, 16, 18, 20, 19])  # Valores antes do tratamento\n",
    "amostra_depois = np.array([12, 14, 17, 18, 18])  # Valores depois do tratamento\n",
    "\n",
    "# Realizando o teste t de Student para amostras pareadas\n",
    "statistic, p_value = stats.ttest_rel(amostra_antes, amostra_depois)\n",
    "\n",
    "# Exibindo o resultado do teste\n",
    "print(\"Estatística do teste t:\", statistic)\n",
    "print(\"Valor-p:\", p_value)\n",
    "\n",
    "# Interpretando o resultado\n",
    "alpha = 0.05\n",
    "if p_value < alpha:\n",
    "    print(\"Rejeitar a hipótese nula: Há uma diferença estatisticamente significativa entre as médias das amostras antes e depois.\")\n",
    "else:\n",
    "    print(\"Aceitar a hipótese nula: Não há evidências suficientes para concluir que há uma diferença estatisticamente significativa entre as médias das amostras antes e depois.\")\n"
   ]
  },
  {
   "cell_type": "markdown",
   "metadata": {},
   "source": [
    "#### ***Mais Grupos***"
   ]
  },
  {
   "cell_type": "markdown",
   "metadata": {},
   "source": [
    "* Teste ANOVA para amostras **pareadas**\n",
    "\n",
    "Neste exemplo, temos três grupos: Bangalore, New Delhi e Pune. \n",
    "\n",
    "Cada grupo tem amostras pareadas. O teste ANOVA de medidas repetidas é realizado usando stats.f_oneway(). \n",
    "\n",
    "O resultado do teste é exibido e interpretado com base no valor-p e no nível de significância (alfa)."
   ]
  },
  {
   "cell_type": "code",
   "execution_count": 19,
   "metadata": {},
   "outputs": [
    {
     "name": "stdout",
     "output_type": "stream",
     "text": [
      "Estatística do teste ANOVA: 12.5\n",
      "Valor-p: 0.0011637967281023535\n",
      "Rejeitar a hipótese nula: Pelo menos uma das médias é estatisticamente diferente das outras.\n"
     ]
    }
   ],
   "source": [
    "#teste ANOVA\n",
    "from scipy import stats\n",
    "import numpy as np\n",
    "\n",
    "# Supondo que você já tenha suas amostras pareadas para cada grupo\n",
    "# Vamos gerar algumas amostras fictícias para demonstração\n",
    "Bangalore = np.array([10, 12, 14, 16, 18])  # Amostras para Bangalore\n",
    "New_Delhi = np.array([15, 17, 19, 21, 23])  # Amostras para New Delhi\n",
    "Pune = np.array([20, 22, 24, 26, 28])  # Amostras para Pune\n",
    "\n",
    "# Juntando todas as amostras em um array bidimensional\n",
    "amostras = np.array([Bangalore, New_Delhi, Pune])\n",
    "\n",
    "# Realizando o teste ANOVA de medidas repetidas\n",
    "statistic, p_value = stats.f_oneway(Bangalore, New_Delhi, Pune)\n",
    "\n",
    "# Exibindo o resultado do teste\n",
    "print(\"Estatística do teste ANOVA:\", statistic)\n",
    "print(\"Valor-p:\", p_value)\n",
    "\n",
    "# Interpretando o resultado\n",
    "alpha = 0.05\n",
    "if p_value < alpha:\n",
    "    print(\"Rejeitar a hipótese nula: Pelo menos uma das médias é estatisticamente diferente das outras.\")\n",
    "else:\n",
    "    print(\"Aceitar a hipótese nula: Não há evidências suficientes para concluir que as médias são estatisticamente diferentes.\")\n"
   ]
  },
  {
   "cell_type": "markdown",
   "metadata": {},
   "source": [
    "### **Não Pareada**"
   ]
  },
  {
   "cell_type": "markdown",
   "metadata": {},
   "source": [
    "#### ***2 Grupos***"
   ]
  },
  {
   "cell_type": "markdown",
   "metadata": {},
   "source": [
    "* Teste t Student para amostras **não pareadas**"
   ]
  },
  {
   "cell_type": "code",
   "execution_count": 20,
   "metadata": {},
   "outputs": [
    {
     "name": "stdout",
     "output_type": "stream",
     "text": [
      "Estatística do teste t: -2.5\n",
      "Valor-p: 0.03694203771362407\n",
      "Rejeitar a hipótese nula: As médias das duas amostras são estatisticamente diferentes.\n"
     ]
    }
   ],
   "source": [
    "from scipy import stats\n",
    "import numpy as np\n",
    "\n",
    "# Supondo que você já tenha suas amostras não pareadas amostra1 e amostra2\n",
    "# Vamos gerar algumas amostras fictícias para demonstração\n",
    "amostra1 = np.array([10, 12, 14, 16, 18])  # Amostra 1\n",
    "amostra2 = np.array([15, 17, 19, 21, 23])  # Amostra 2\n",
    "\n",
    "# Realizando o teste t de Student para amostras não pareadas\n",
    "statistic, p_value = stats.ttest_ind(amostra1, amostra2)\n",
    "\n",
    "# Exibindo o resultado do teste\n",
    "print(f\"Estatística do teste t: {statistic}\", )\n",
    "print(f\"Valor-p: {p_value}\", )\n",
    "\n",
    "# Interpretando o resultado\n",
    "alpha = 0.05\n",
    "if p_value < alpha:\n",
    "    print(\"Rejeitar a hipótese nula: As médias das duas amostras são estatisticamente diferentes.\")\n",
    "else:\n",
    "    print(\"Aceitar a hipótese nula: Não há evidências suficientes para concluir que as médias das duas amostras são diferentes.\")\n"
   ]
  },
  {
   "cell_type": "markdown",
   "metadata": {},
   "source": [
    "#### ***Mais Grupos***"
   ]
  },
  {
   "cell_type": "markdown",
   "metadata": {},
   "source": [
    "* Teste ANOVA para amostras **não pareadas**\n",
    "\n",
    "No código acima, temos três grupos independentes (grupo1, grupo2 e grupo3). Cada grupo contém amostras independentes. O teste ANOVA é realizado usando stats.f_oneway(), que compara as médias entre os grupos.\n",
    "\n",
    "Diferença entre ANOVA para amostras pareadas e não pareadas:\n",
    "A diferença principal é na estrutura das amostras:\n",
    "\n",
    "Amostras não pareadas: Cada amostra em um grupo é independente e não está relacionada a nenhuma outra amostra nos outros grupos. Por exemplo, diferentes indivíduos em um estudo.\n",
    "\n",
    "Amostras pareadas: Cada amostra em um grupo está relacionada a uma amostra correspondente em outro grupo. Por exemplo, medidas antes e depois de um tratamento em cada indivíduo.\n",
    "\n",
    "Devido a essa diferença na estrutura das amostras, o teste estatístico apropriado varia. O teste ANOVA para amostras não pareadas compara as médias entre grupos independentes, enquanto o teste ANOVA para amostras pareadas, conhecido como ANOVA de medidas repetidas, compara as médias de múltiplas medidas feitas sobre a mesma unidade experimental."
   ]
  },
  {
   "cell_type": "code",
   "execution_count": 21,
   "metadata": {},
   "outputs": [
    {
     "name": "stdout",
     "output_type": "stream",
     "text": [
      "Estatística do teste ANOVA: 12.5\n",
      "Valor-p: 0.0011637967281023535\n",
      "Rejeitar a hipótese nula: Pelo menos uma das médias é estatisticamente diferente das outras.\n"
     ]
    }
   ],
   "source": [
    "from scipy import stats\n",
    "import numpy as np\n",
    "\n",
    "# Supondo que você já tenha suas amostras para cada grupo\n",
    "# Vamos gerar algumas amostras fictícias para demonstração\n",
    "grupo1 = np.array([10, 12, 14, 16, 18])  # Grupo 1\n",
    "grupo2 = np.array([15, 17, 19, 21, 23])  # Grupo 2\n",
    "grupo3 = np.array([20, 22, 24, 26, 28])  # Grupo 3\n",
    "\n",
    "# Realizando o teste ANOVA\n",
    "statistic, p_value = stats.f_oneway(grupo1, grupo2, grupo3)\n",
    "\n",
    "# Exibindo o resultado do teste\n",
    "print(\"Estatística do teste ANOVA:\", statistic)\n",
    "print(\"Valor-p:\", p_value)\n",
    "\n",
    "# Interpretando o resultado\n",
    "alpha = 0.05\n",
    "if p_value < alpha:\n",
    "    print(\"Rejeitar a hipótese nula: Pelo menos uma das médias é estatisticamente diferente das outras.\")\n",
    "else:\n",
    "    print(\"Aceitar a hipótese nula: Não há evidências suficientes para concluir que as médias são estatisticamente diferentes.\")\n"
   ]
  },
  {
   "cell_type": "markdown",
   "metadata": {},
   "source": [
    "## **Não Normal**"
   ]
  },
  {
   "cell_type": "markdown",
   "metadata": {},
   "source": [
    "### **Pareada**"
   ]
  },
  {
   "cell_type": "markdown",
   "metadata": {},
   "source": [
    "#### ***2 Grupos***"
   ]
  },
  {
   "cell_type": "markdown",
   "metadata": {},
   "source": [
    "* Wilkoxon signed rank test para amostras **pareadas**\n",
    "\n",
    "Neste exemplo, temos dois grupos pareados: grupo1 e grupo2. \n",
    "\n",
    "O teste de Wilcoxon para amostras pareadas é realizado usando stats.wilcoxon(), que é adequado para dados pareados e não requer a suposição de normalidade. \n",
    "\n",
    "A estatística do teste e o valor-p são exibidos, seguidos pela interpretação do resultado com base no nível de significância (alfa)."
   ]
  },
  {
   "cell_type": "code",
   "execution_count": 22,
   "metadata": {},
   "outputs": [
    {
     "name": "stdout",
     "output_type": "stream",
     "text": [
      "Estatística do teste de Wilcoxon: 5.5\n",
      "Valor-p: 0.625\n",
      "Aceitar a hipótese nula: Não há evidências suficientes para concluir que as distribuições das duas amostras são diferentes.\n"
     ]
    }
   ],
   "source": [
    "from scipy import stats\n",
    "import numpy as np\n",
    "\n",
    "# Supondo que você já tenha suas amostras pareadas para os dois grupos\n",
    "# Vamos gerar algumas amostras fictícias para demonstração\n",
    "grupo1 = np.array([12, 14, 15, 16, 18])  # Grupo 1\n",
    "grupo2 = np.array([10, 13, 16, 18, 20])  # Grupo 2\n",
    "\n",
    "# Realizando o teste de Wilcoxon para amostras pareadas\n",
    "statistic, p_value = stats.wilcoxon(grupo1, grupo2)\n",
    "\n",
    "# Exibindo o resultado do teste\n",
    "print(\"Estatística do teste de Wilcoxon:\", statistic)\n",
    "print(\"Valor-p:\", p_value)\n",
    "\n",
    "# Interpretando o resultado\n",
    "alpha = 0.05\n",
    "if p_value < alpha:\n",
    "    print(\"Rejeitar a hipótese nula: As distribuições das duas amostras são estatisticamente diferentes.\")\n",
    "else:\n",
    "    print(\"Aceitar a hipótese nula: Não há evidências suficientes para concluir que as distribuições das duas amostras são diferentes.\")\n"
   ]
  },
  {
   "cell_type": "markdown",
   "metadata": {},
   "source": [
    "#### ***Mais Grupos***"
   ]
  },
  {
   "cell_type": "markdown",
   "metadata": {},
   "source": [
    "* Friedman para amostras **pareadas**\n",
    "\n",
    "Neste exemplo, temos três grupos pareados: grupo1, grupo2 e grupo3. \n",
    "\n",
    "O teste de Friedman para amostras pareadas é realizado usando stats.friedmanchisquare(), que é uma extensão do teste de Wilcoxon para mais de dois grupos. \n",
    "\n",
    "A estatística do teste e o valor-p são exibidos, seguidos pela interpretação do resultado com base no nível de significância (alfa)."
   ]
  },
  {
   "cell_type": "code",
   "execution_count": 23,
   "metadata": {},
   "outputs": [
    {
     "name": "stdout",
     "output_type": "stream",
     "text": [
      "Estatística do teste de Friedman: 4.799999999999997\n",
      "Valor-p: 0.09071795328941264\n",
      "Aceitar a hipótese nula: Não há evidências suficientes para concluir que as distribuições das amostras são diferentes.\n"
     ]
    }
   ],
   "source": [
    "from scipy import stats\n",
    "import numpy as np\n",
    "\n",
    "# Supondo que você já tenha suas amostras pareadas para cada grupo\n",
    "# Vamos gerar algumas amostras fictícias para demonstração\n",
    "grupo1 = np.array([12, 14, 15, 16, 18])  # Grupo 1\n",
    "grupo2 = np.array([10, 13, 16, 18, 20])  # Grupo 2\n",
    "grupo3 = np.array([11, 12, 14, 15, 17])  # Grupo 3\n",
    "\n",
    "# Realizando o teste de Friedman para amostras pareadas\n",
    "statistic, p_value = stats.friedmanchisquare(grupo1, grupo2, grupo3)\n",
    "\n",
    "# Exibindo o resultado do teste\n",
    "print(\"Estatística do teste de Friedman:\", statistic)\n",
    "print(\"Valor-p:\", p_value)\n",
    "\n",
    "# Interpretando o resultado\n",
    "alpha = 0.05\n",
    "if p_value < alpha:\n",
    "    print(\"Rejeitar a hipótese nula: Pelo menos uma das distribuições das amostras é estatisticamente diferente das outras.\")\n",
    "else:\n",
    "    print(\"Aceitar a hipótese nula: Não há evidências suficientes para concluir que as distribuições das amostras são diferentes.\")\n"
   ]
  },
  {
   "cell_type": "markdown",
   "metadata": {},
   "source": [
    "### **Não Pareadas**"
   ]
  },
  {
   "cell_type": "markdown",
   "metadata": {},
   "source": [
    "#### ***2 Grupos***"
   ]
  },
  {
   "cell_type": "markdown",
   "metadata": {},
   "source": [
    "* Mann Whitney para amostras **não pareadas**\n",
    "\n",
    "Neste exemplo, temos dois grupos independentes: grupo1 e grupo2. \n",
    "\n",
    "O teste de Mann-Whitney para amostras não pareadas é realizado usando stats.mannwhitneyu(), que é adequado para dados não pareados e não requer a suposição de normalidade. \n",
    "\n",
    "A estatística do teste e o valor-p são exibidos, seguidos pela interpretação do resultado com base no nível de significância (alfa)."
   ]
  },
  {
   "cell_type": "code",
   "execution_count": 24,
   "metadata": {},
   "outputs": [
    {
     "name": "stdout",
     "output_type": "stream",
     "text": [
      "Estatística do teste de Mann-Whitney: 11.0\n",
      "Valor-p: 0.8335343428655833\n",
      "Aceitar a hipótese nula: Não há evidências suficientes para concluir que as distribuições das duas amostras são diferentes.\n"
     ]
    }
   ],
   "source": [
    "from scipy import stats\n",
    "import numpy as np\n",
    "\n",
    "# Supondo que você já tenha suas amostras para cada grupo\n",
    "# Vamos gerar algumas amostras fictícias para demonstração\n",
    "grupo1 = np.array([12, 14, 15, 16, 18])  # Grupo 1\n",
    "grupo2 = np.array([10, 13, 16, 18, 20])  # Grupo 2\n",
    "\n",
    "# Realizando o teste de Mann-Whitney para amostras não pareadas\n",
    "statistic, p_value = stats.mannwhitneyu(grupo1, grupo2)\n",
    "\n",
    "# Exibindo o resultado do teste\n",
    "print(\"Estatística do teste de Mann-Whitney:\", statistic)\n",
    "print(\"Valor-p:\", p_value)\n",
    "\n",
    "# Interpretando o resultado\n",
    "alpha = 0.05\n",
    "if p_value < alpha:\n",
    "    print(\"Rejeitar a hipótese nula: As distribuições das duas amostras são estatisticamente diferentes.\")\n",
    "else:\n",
    "    print(\"Aceitar a hipótese nula: Não há evidências suficientes para concluir que as distribuições das duas amostras são diferentes.\")\n"
   ]
  },
  {
   "cell_type": "markdown",
   "metadata": {},
   "source": [
    "#### ***Mais Grupos***"
   ]
  },
  {
   "cell_type": "markdown",
   "metadata": {},
   "source": [
    "* Kruskal Wallis para amostras **não pareadas**\n",
    "\n",
    "Neste exemplo, temos três grupos independentes: grupo1, grupo2 e grupo3. \n",
    "\n",
    "O teste de Kruskal-Wallis é realizado usando stats.kruskal(), que é uma alternativa não paramétrica ao teste ANOVA e é adequado para dados não pareados e não requer a suposição de normalidade. \n",
    "\n",
    "A estatística do teste e o valor-p são exibidos, seguidos pela interpretação do resultado com base no nível de significância (alfa)."
   ]
  },
  {
   "cell_type": "code",
   "execution_count": 25,
   "metadata": {},
   "outputs": [
    {
     "name": "stdout",
     "output_type": "stream",
     "text": [
      "Estatística do teste de Kruskal-Wallis: 0.8828828828828829\n",
      "Valor-p: 0.6431087490490743\n",
      "Aceitar a hipótese nula: Não há evidências suficientes para concluir que as medianas são estatisticamente diferentes.\n"
     ]
    }
   ],
   "source": [
    "from scipy import stats\n",
    "import numpy as np\n",
    "\n",
    "# Supondo que você já tenha suas amostras para cada grupo\n",
    "# Vamos gerar algumas amostras fictícias para demonstração\n",
    "grupo1 = np.array([12, 14, 15, 16, 18])  # Grupo 1\n",
    "grupo2 = np.array([10, 13, 16, 18, 20])  # Grupo 2\n",
    "grupo3 = np.array([11, 12, 14, 15, 17])  # Grupo 3\n",
    "\n",
    "# Realizando o teste de Kruskal-Wallis\n",
    "statistic, p_value = stats.kruskal(grupo1, grupo2, grupo3)\n",
    "\n",
    "# Exibindo o resultado do teste\n",
    "print(\"Estatística do teste de Kruskal-Wallis:\", statistic)\n",
    "print(\"Valor-p:\", p_value)\n",
    "\n",
    "# Interpretando o resultado\n",
    "alpha = 0.05\n",
    "if p_value < alpha:\n",
    "    print(\"Rejeitar a hipótese nula: Pelo menos uma das medianas é estatisticamente diferente das outras.\")\n",
    "else:\n",
    "    print(\"Aceitar a hipótese nula: Não há evidências suficientes para concluir que as medianas são estatisticamente diferentes.\")\n"
   ]
  }
 ],
 "metadata": {
  "kernelspec": {
   "display_name": "Python 3",
   "language": "python",
   "name": "python3"
  },
  "language_info": {
   "codemirror_mode": {
    "name": "ipython",
    "version": 3
   },
   "file_extension": ".py",
   "mimetype": "text/x-python",
   "name": "python",
   "nbconvert_exporter": "python",
   "pygments_lexer": "ipython3",
   "version": "3.10.9"
  }
 },
 "nbformat": 4,
 "nbformat_minor": 2
}
